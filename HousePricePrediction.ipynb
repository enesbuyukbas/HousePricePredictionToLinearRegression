{
 "cells": [
  {
   "cell_type": "code",
   "execution_count": 249,
   "id": "21312427",
   "metadata": {},
   "outputs": [],
   "source": [
    "# İlk başta bize gerekli olan bazı kütüphaneleri import ederek başlayalım"
   ]
  },
  {
   "cell_type": "code",
   "execution_count": 250,
   "id": "44a08ab4",
   "metadata": {},
   "outputs": [],
   "source": [
    "import pandas as pd\n",
    "import numpy as np\n",
    "import seaborn as sns\n",
    "import matplotlib.pyplot as plt"
   ]
  },
  {
   "cell_type": "code",
   "execution_count": 251,
   "id": "a95b942a",
   "metadata": {},
   "outputs": [],
   "source": [
    "# Verisetimizi okuyalım"
   ]
  },
  {
   "cell_type": "code",
   "execution_count": 252,
   "id": "b0c162ec",
   "metadata": {},
   "outputs": [],
   "source": [
    "df = pd.read_csv('data.csv')"
   ]
  },
  {
   "cell_type": "code",
   "execution_count": 253,
   "id": "c50327a2",
   "metadata": {},
   "outputs": [],
   "source": [
    "# Verilerimizn hangi tip veri olduğunu kontrol edelim"
   ]
  },
  {
   "cell_type": "code",
   "execution_count": 254,
   "id": "e96dfd5f",
   "metadata": {},
   "outputs": [
    {
     "data": {
      "text/plain": [
       "date              object\n",
       "price            float64\n",
       "bedrooms         float64\n",
       "bathrooms        float64\n",
       "sqft_living        int64\n",
       "sqft_lot           int64\n",
       "floors           float64\n",
       "waterfront         int64\n",
       "view               int64\n",
       "condition          int64\n",
       "sqft_above         int64\n",
       "sqft_basement      int64\n",
       "yr_built           int64\n",
       "yr_renovated       int64\n",
       "street            object\n",
       "city              object\n",
       "statezip          object\n",
       "country           object\n",
       "dtype: object"
      ]
     },
     "execution_count": 254,
     "metadata": {},
     "output_type": "execute_result"
    }
   ],
   "source": [
    "df.dtypes"
   ]
  },
  {
   "cell_type": "code",
   "execution_count": 255,
   "id": "01f3a73a",
   "metadata": {},
   "outputs": [
    {
     "data": {
      "text/html": [
       "<div>\n",
       "<style scoped>\n",
       "    .dataframe tbody tr th:only-of-type {\n",
       "        vertical-align: middle;\n",
       "    }\n",
       "\n",
       "    .dataframe tbody tr th {\n",
       "        vertical-align: top;\n",
       "    }\n",
       "\n",
       "    .dataframe thead th {\n",
       "        text-align: right;\n",
       "    }\n",
       "</style>\n",
       "<table border=\"1\" class=\"dataframe\">\n",
       "  <thead>\n",
       "    <tr style=\"text-align: right;\">\n",
       "      <th></th>\n",
       "      <th>date</th>\n",
       "      <th>price</th>\n",
       "      <th>bedrooms</th>\n",
       "      <th>bathrooms</th>\n",
       "      <th>sqft_living</th>\n",
       "      <th>sqft_lot</th>\n",
       "      <th>floors</th>\n",
       "      <th>waterfront</th>\n",
       "      <th>view</th>\n",
       "      <th>condition</th>\n",
       "      <th>sqft_above</th>\n",
       "      <th>sqft_basement</th>\n",
       "      <th>yr_built</th>\n",
       "      <th>yr_renovated</th>\n",
       "      <th>street</th>\n",
       "      <th>city</th>\n",
       "      <th>statezip</th>\n",
       "      <th>country</th>\n",
       "    </tr>\n",
       "  </thead>\n",
       "  <tbody>\n",
       "    <tr>\n",
       "      <th>0</th>\n",
       "      <td>2014-05-02 00:00:00</td>\n",
       "      <td>313000.0</td>\n",
       "      <td>3.0</td>\n",
       "      <td>1.50</td>\n",
       "      <td>1340</td>\n",
       "      <td>7912</td>\n",
       "      <td>1.5</td>\n",
       "      <td>0</td>\n",
       "      <td>0</td>\n",
       "      <td>3</td>\n",
       "      <td>1340</td>\n",
       "      <td>0</td>\n",
       "      <td>1955</td>\n",
       "      <td>2005</td>\n",
       "      <td>18810 Densmore Ave N</td>\n",
       "      <td>Shoreline</td>\n",
       "      <td>WA 98133</td>\n",
       "      <td>USA</td>\n",
       "    </tr>\n",
       "    <tr>\n",
       "      <th>1</th>\n",
       "      <td>2014-05-02 00:00:00</td>\n",
       "      <td>2384000.0</td>\n",
       "      <td>5.0</td>\n",
       "      <td>2.50</td>\n",
       "      <td>3650</td>\n",
       "      <td>9050</td>\n",
       "      <td>2.0</td>\n",
       "      <td>0</td>\n",
       "      <td>4</td>\n",
       "      <td>5</td>\n",
       "      <td>3370</td>\n",
       "      <td>280</td>\n",
       "      <td>1921</td>\n",
       "      <td>0</td>\n",
       "      <td>709 W Blaine St</td>\n",
       "      <td>Seattle</td>\n",
       "      <td>WA 98119</td>\n",
       "      <td>USA</td>\n",
       "    </tr>\n",
       "    <tr>\n",
       "      <th>2</th>\n",
       "      <td>2014-05-02 00:00:00</td>\n",
       "      <td>342000.0</td>\n",
       "      <td>3.0</td>\n",
       "      <td>2.00</td>\n",
       "      <td>1930</td>\n",
       "      <td>11947</td>\n",
       "      <td>1.0</td>\n",
       "      <td>0</td>\n",
       "      <td>0</td>\n",
       "      <td>4</td>\n",
       "      <td>1930</td>\n",
       "      <td>0</td>\n",
       "      <td>1966</td>\n",
       "      <td>0</td>\n",
       "      <td>26206-26214 143rd Ave SE</td>\n",
       "      <td>Kent</td>\n",
       "      <td>WA 98042</td>\n",
       "      <td>USA</td>\n",
       "    </tr>\n",
       "    <tr>\n",
       "      <th>3</th>\n",
       "      <td>2014-05-02 00:00:00</td>\n",
       "      <td>420000.0</td>\n",
       "      <td>3.0</td>\n",
       "      <td>2.25</td>\n",
       "      <td>2000</td>\n",
       "      <td>8030</td>\n",
       "      <td>1.0</td>\n",
       "      <td>0</td>\n",
       "      <td>0</td>\n",
       "      <td>4</td>\n",
       "      <td>1000</td>\n",
       "      <td>1000</td>\n",
       "      <td>1963</td>\n",
       "      <td>0</td>\n",
       "      <td>857 170th Pl NE</td>\n",
       "      <td>Bellevue</td>\n",
       "      <td>WA 98008</td>\n",
       "      <td>USA</td>\n",
       "    </tr>\n",
       "    <tr>\n",
       "      <th>4</th>\n",
       "      <td>2014-05-02 00:00:00</td>\n",
       "      <td>550000.0</td>\n",
       "      <td>4.0</td>\n",
       "      <td>2.50</td>\n",
       "      <td>1940</td>\n",
       "      <td>10500</td>\n",
       "      <td>1.0</td>\n",
       "      <td>0</td>\n",
       "      <td>0</td>\n",
       "      <td>4</td>\n",
       "      <td>1140</td>\n",
       "      <td>800</td>\n",
       "      <td>1976</td>\n",
       "      <td>1992</td>\n",
       "      <td>9105 170th Ave NE</td>\n",
       "      <td>Redmond</td>\n",
       "      <td>WA 98052</td>\n",
       "      <td>USA</td>\n",
       "    </tr>\n",
       "  </tbody>\n",
       "</table>\n",
       "</div>"
      ],
      "text/plain": [
       "                  date      price  bedrooms  bathrooms  sqft_living  sqft_lot  \\\n",
       "0  2014-05-02 00:00:00   313000.0       3.0       1.50         1340      7912   \n",
       "1  2014-05-02 00:00:00  2384000.0       5.0       2.50         3650      9050   \n",
       "2  2014-05-02 00:00:00   342000.0       3.0       2.00         1930     11947   \n",
       "3  2014-05-02 00:00:00   420000.0       3.0       2.25         2000      8030   \n",
       "4  2014-05-02 00:00:00   550000.0       4.0       2.50         1940     10500   \n",
       "\n",
       "   floors  waterfront  view  condition  sqft_above  sqft_basement  yr_built  \\\n",
       "0     1.5           0     0          3        1340              0      1955   \n",
       "1     2.0           0     4          5        3370            280      1921   \n",
       "2     1.0           0     0          4        1930              0      1966   \n",
       "3     1.0           0     0          4        1000           1000      1963   \n",
       "4     1.0           0     0          4        1140            800      1976   \n",
       "\n",
       "   yr_renovated                    street       city  statezip country  \n",
       "0          2005      18810 Densmore Ave N  Shoreline  WA 98133     USA  \n",
       "1             0           709 W Blaine St    Seattle  WA 98119     USA  \n",
       "2             0  26206-26214 143rd Ave SE       Kent  WA 98042     USA  \n",
       "3             0           857 170th Pl NE   Bellevue  WA 98008     USA  \n",
       "4          1992         9105 170th Ave NE    Redmond  WA 98052     USA  "
      ]
     },
     "execution_count": 255,
     "metadata": {},
     "output_type": "execute_result"
    }
   ],
   "source": [
    "df.head()"
   ]
  },
  {
   "cell_type": "code",
   "execution_count": 256,
   "id": "5294d4ea",
   "metadata": {},
   "outputs": [],
   "source": [
    "# Değişkenler arasındaki korelasyonu görselleştirip, inceleyelim."
   ]
  },
  {
   "cell_type": "code",
   "execution_count": 257,
   "id": "9d696f96",
   "metadata": {},
   "outputs": [
    {
     "data": {
      "text/plain": [
       "<AxesSubplot:>"
      ]
     },
     "execution_count": 257,
     "metadata": {},
     "output_type": "execute_result"
    },
    {
     "data": {
      "image/png": "[encoded data removed]",
      "text/plain": [
       "<Figure size 1000x1000 with 2 Axes>"
      ]
     },
     "metadata": {},
     "output_type": "display_data"
    }
   ],
   "source": [
    "plt.figure(figsize=(10,10))\n",
    "corr = df.corr()\n",
    "sns.heatmap(corr, annot=True)"
   ]
  },
  {
   "cell_type": "code",
   "execution_count": 258,
   "id": "5b2b32c5",
   "metadata": {},
   "outputs": [],
   "source": [
    "# Üstte float tipinde tanımlandığını gördüğümüz kolonları int veri tipine dönüştürelim"
   ]
  },
  {
   "cell_type": "code",
   "execution_count": 259,
   "id": "3f20e475",
   "metadata": {},
   "outputs": [
    {
     "data": {
      "text/plain": [
       "date             object\n",
       "price             int64\n",
       "bedrooms          int64\n",
       "bathrooms         int64\n",
       "sqft_living       int64\n",
       "sqft_lot          int64\n",
       "floors            int64\n",
       "waterfront        int64\n",
       "view              int64\n",
       "condition         int64\n",
       "sqft_above        int64\n",
       "sqft_basement     int64\n",
       "yr_built          int64\n",
       "yr_renovated      int64\n",
       "street           object\n",
       "city             object\n",
       "statezip         object\n",
       "country          object\n",
       "dtype: object"
      ]
     },
     "execution_count": 259,
     "metadata": {},
     "output_type": "execute_result"
    }
   ],
   "source": [
    "df['price'] = df['price'].astype('int64')\n",
    "df['bedrooms'] = df['bedrooms'].astype('int64')\n",
    "df['bathrooms'] = df['bathrooms'].astype('int64')\n",
    "df['floors'] = df['floors'].astype('int64')\n",
    "df.dtypes"
   ]
  },
  {
   "cell_type": "code",
   "execution_count": 260,
   "id": "c3c44000",
   "metadata": {},
   "outputs": [],
   "source": [
    "# Price kolonunun özetini alalım"
   ]
  },
  {
   "cell_type": "code",
   "execution_count": 261,
   "id": "d35a85b6",
   "metadata": {},
   "outputs": [
    {
     "data": {
      "text/plain": [
       "count    4.600000e+03\n",
       "mean     5.519630e+05\n",
       "std      5.638347e+05\n",
       "min      0.000000e+00\n",
       "25%      3.228750e+05\n",
       "50%      4.609430e+05\n",
       "75%      6.549625e+05\n",
       "max      2.659000e+07\n",
       "Name: price, dtype: float64"
      ]
     },
     "execution_count": 261,
     "metadata": {},
     "output_type": "execute_result"
    }
   ],
   "source": [
    "df['price'].describe()"
   ]
  },
  {
   "cell_type": "code",
   "execution_count": 262,
   "id": "1456eb50",
   "metadata": {},
   "outputs": [],
   "source": [
    "# Fiyatı 0 olarak gözüken eksik verilerimiz var bunların kaç satırdan oluştuğunu inceleyelim"
   ]
  },
  {
   "cell_type": "code",
   "execution_count": 263,
   "id": "59ec86ba",
   "metadata": {},
   "outputs": [
    {
     "data": {
      "text/plain": [
       "(49, 18)"
      ]
     },
     "execution_count": 263,
     "metadata": {},
     "output_type": "execute_result"
    }
   ],
   "source": [
    "df[df['price'] == 0].shape"
   ]
  },
  {
   "cell_type": "code",
   "execution_count": 264,
   "id": "082d76ef",
   "metadata": {},
   "outputs": [],
   "source": [
    "# replace metodunu kullanarak eksik verilerimizdeki 0 değerini NaN değeri olarak değiştirelim"
   ]
  },
  {
   "cell_type": "code",
   "execution_count": 265,
   "id": "89280803",
   "metadata": {},
   "outputs": [],
   "source": [
    "df['price'].replace(0, np.nan, inplace=True)"
   ]
  },
  {
   "cell_type": "code",
   "execution_count": 266,
   "id": "dc9853be",
   "metadata": {},
   "outputs": [
    {
     "data": {
      "text/plain": [
       "(0, 18)"
      ]
     },
     "execution_count": 266,
     "metadata": {},
     "output_type": "execute_result"
    }
   ],
   "source": [
    "df[df['price'] == 0].shape"
   ]
  },
  {
   "cell_type": "code",
   "execution_count": 267,
   "id": "c5f1ecc0",
   "metadata": {},
   "outputs": [],
   "source": [
    "# NaN değerlerimizi kontrol edelim.\n",
    "# isna() metodu tüm NaN değerler için True döndürür.\n",
    "# sum() metodu her bir kolondaki True değerlerinin sayısını hesaplar."
   ]
  },
  {
   "cell_type": "code",
   "execution_count": 268,
   "id": "1fc94cbb",
   "metadata": {},
   "outputs": [
    {
     "data": {
      "text/plain": [
       "date              0\n",
       "price            49\n",
       "bedrooms          0\n",
       "bathrooms         0\n",
       "sqft_living       0\n",
       "sqft_lot          0\n",
       "floors            0\n",
       "waterfront        0\n",
       "view              0\n",
       "condition         0\n",
       "sqft_above        0\n",
       "sqft_basement     0\n",
       "yr_built          0\n",
       "yr_renovated      0\n",
       "street            0\n",
       "city              0\n",
       "statezip          0\n",
       "country           0\n",
       "dtype: int64"
      ]
     },
     "execution_count": 268,
     "metadata": {},
     "output_type": "execute_result"
    }
   ],
   "source": [
    "df.isna().sum()"
   ]
  },
  {
   "cell_type": "code",
   "execution_count": 269,
   "id": "12c55cc3",
   "metadata": {},
   "outputs": [],
   "source": [
    "# Price kolonundaki NaN değerlerin yerini, ortalama bir değerle dolduralım."
   ]
  },
  {
   "cell_type": "code",
   "execution_count": 270,
   "id": "3cd5a0cf",
   "metadata": {},
   "outputs": [],
   "source": [
    "df['price'].fillna(df['price'].mean(), inplace=True)"
   ]
  },
  {
   "cell_type": "code",
   "execution_count": 271,
   "id": "d1970c2d",
   "metadata": {},
   "outputs": [
    {
     "data": {
      "text/plain": [
       "date             0\n",
       "price            0\n",
       "bedrooms         0\n",
       "bathrooms        0\n",
       "sqft_living      0\n",
       "sqft_lot         0\n",
       "floors           0\n",
       "waterfront       0\n",
       "view             0\n",
       "condition        0\n",
       "sqft_above       0\n",
       "sqft_basement    0\n",
       "yr_built         0\n",
       "yr_renovated     0\n",
       "street           0\n",
       "city             0\n",
       "statezip         0\n",
       "country          0\n",
       "dtype: int64"
      ]
     },
     "execution_count": 271,
     "metadata": {},
     "output_type": "execute_result"
    }
   ],
   "source": [
    "df.isna().sum()"
   ]
  },
  {
   "cell_type": "code",
   "execution_count": 272,
   "id": "5d7135ee",
   "metadata": {},
   "outputs": [],
   "source": [
    "# City kolonundaki string verileri analiz edebilmek için get_dummies kullanarak 0-1 aralığına indirgeyelim."
   ]
  },
  {
   "cell_type": "code",
   "execution_count": 273,
   "id": "6360a8ef",
   "metadata": {},
   "outputs": [
    {
     "data": {
      "text/html": [
       "<div>\n",
       "<style scoped>\n",
       "    .dataframe tbody tr th:only-of-type {\n",
       "        vertical-align: middle;\n",
       "    }\n",
       "\n",
       "    .dataframe tbody tr th {\n",
       "        vertical-align: top;\n",
       "    }\n",
       "\n",
       "    .dataframe thead th {\n",
       "        text-align: right;\n",
       "    }\n",
       "</style>\n",
       "<table border=\"1\" class=\"dataframe\">\n",
       "  <thead>\n",
       "    <tr style=\"text-align: right;\">\n",
       "      <th></th>\n",
       "      <th>Algona</th>\n",
       "      <th>Auburn</th>\n",
       "      <th>Beaux Arts Village</th>\n",
       "      <th>Bellevue</th>\n",
       "      <th>Black Diamond</th>\n",
       "      <th>Bothell</th>\n",
       "      <th>Burien</th>\n",
       "      <th>Carnation</th>\n",
       "      <th>Clyde Hill</th>\n",
       "      <th>Covington</th>\n",
       "      <th>...</th>\n",
       "      <th>SeaTac</th>\n",
       "      <th>Seattle</th>\n",
       "      <th>Shoreline</th>\n",
       "      <th>Skykomish</th>\n",
       "      <th>Snoqualmie</th>\n",
       "      <th>Snoqualmie Pass</th>\n",
       "      <th>Tukwila</th>\n",
       "      <th>Vashon</th>\n",
       "      <th>Woodinville</th>\n",
       "      <th>Yarrow Point</th>\n",
       "    </tr>\n",
       "  </thead>\n",
       "  <tbody>\n",
       "    <tr>\n",
       "      <th>0</th>\n",
       "      <td>0</td>\n",
       "      <td>0</td>\n",
       "      <td>0</td>\n",
       "      <td>0</td>\n",
       "      <td>0</td>\n",
       "      <td>0</td>\n",
       "      <td>0</td>\n",
       "      <td>0</td>\n",
       "      <td>0</td>\n",
       "      <td>0</td>\n",
       "      <td>...</td>\n",
       "      <td>0</td>\n",
       "      <td>0</td>\n",
       "      <td>1</td>\n",
       "      <td>0</td>\n",
       "      <td>0</td>\n",
       "      <td>0</td>\n",
       "      <td>0</td>\n",
       "      <td>0</td>\n",
       "      <td>0</td>\n",
       "      <td>0</td>\n",
       "    </tr>\n",
       "    <tr>\n",
       "      <th>1</th>\n",
       "      <td>0</td>\n",
       "      <td>0</td>\n",
       "      <td>0</td>\n",
       "      <td>0</td>\n",
       "      <td>0</td>\n",
       "      <td>0</td>\n",
       "      <td>0</td>\n",
       "      <td>0</td>\n",
       "      <td>0</td>\n",
       "      <td>0</td>\n",
       "      <td>...</td>\n",
       "      <td>0</td>\n",
       "      <td>1</td>\n",
       "      <td>0</td>\n",
       "      <td>0</td>\n",
       "      <td>0</td>\n",
       "      <td>0</td>\n",
       "      <td>0</td>\n",
       "      <td>0</td>\n",
       "      <td>0</td>\n",
       "      <td>0</td>\n",
       "    </tr>\n",
       "    <tr>\n",
       "      <th>2</th>\n",
       "      <td>0</td>\n",
       "      <td>0</td>\n",
       "      <td>0</td>\n",
       "      <td>0</td>\n",
       "      <td>0</td>\n",
       "      <td>0</td>\n",
       "      <td>0</td>\n",
       "      <td>0</td>\n",
       "      <td>0</td>\n",
       "      <td>0</td>\n",
       "      <td>...</td>\n",
       "      <td>0</td>\n",
       "      <td>0</td>\n",
       "      <td>0</td>\n",
       "      <td>0</td>\n",
       "      <td>0</td>\n",
       "      <td>0</td>\n",
       "      <td>0</td>\n",
       "      <td>0</td>\n",
       "      <td>0</td>\n",
       "      <td>0</td>\n",
       "    </tr>\n",
       "    <tr>\n",
       "      <th>3</th>\n",
       "      <td>0</td>\n",
       "      <td>0</td>\n",
       "      <td>0</td>\n",
       "      <td>1</td>\n",
       "      <td>0</td>\n",
       "      <td>0</td>\n",
       "      <td>0</td>\n",
       "      <td>0</td>\n",
       "      <td>0</td>\n",
       "      <td>0</td>\n",
       "      <td>...</td>\n",
       "      <td>0</td>\n",
       "      <td>0</td>\n",
       "      <td>0</td>\n",
       "      <td>0</td>\n",
       "      <td>0</td>\n",
       "      <td>0</td>\n",
       "      <td>0</td>\n",
       "      <td>0</td>\n",
       "      <td>0</td>\n",
       "      <td>0</td>\n",
       "    </tr>\n",
       "    <tr>\n",
       "      <th>4</th>\n",
       "      <td>0</td>\n",
       "      <td>0</td>\n",
       "      <td>0</td>\n",
       "      <td>0</td>\n",
       "      <td>0</td>\n",
       "      <td>0</td>\n",
       "      <td>0</td>\n",
       "      <td>0</td>\n",
       "      <td>0</td>\n",
       "      <td>0</td>\n",
       "      <td>...</td>\n",
       "      <td>0</td>\n",
       "      <td>0</td>\n",
       "      <td>0</td>\n",
       "      <td>0</td>\n",
       "      <td>0</td>\n",
       "      <td>0</td>\n",
       "      <td>0</td>\n",
       "      <td>0</td>\n",
       "      <td>0</td>\n",
       "      <td>0</td>\n",
       "    </tr>\n",
       "  </tbody>\n",
       "</table>\n",
       "<p>5 rows × 44 columns</p>\n",
       "</div>"
      ],
      "text/plain": [
       "   Algona  Auburn  Beaux Arts Village  Bellevue  Black Diamond  Bothell  \\\n",
       "0       0       0                   0         0              0        0   \n",
       "1       0       0                   0         0              0        0   \n",
       "2       0       0                   0         0              0        0   \n",
       "3       0       0                   0         1              0        0   \n",
       "4       0       0                   0         0              0        0   \n",
       "\n",
       "   Burien  Carnation  Clyde Hill  Covington  ...  SeaTac  Seattle  Shoreline  \\\n",
       "0       0          0           0          0  ...       0        0          1   \n",
       "1       0          0           0          0  ...       0        1          0   \n",
       "2       0          0           0          0  ...       0        0          0   \n",
       "3       0          0           0          0  ...       0        0          0   \n",
       "4       0          0           0          0  ...       0        0          0   \n",
       "\n",
       "   Skykomish  Snoqualmie  Snoqualmie Pass  Tukwila  Vashon  Woodinville  \\\n",
       "0          0           0                0        0       0            0   \n",
       "1          0           0                0        0       0            0   \n",
       "2          0           0                0        0       0            0   \n",
       "3          0           0                0        0       0            0   \n",
       "4          0           0                0        0       0            0   \n",
       "\n",
       "   Yarrow Point  \n",
       "0             0  \n",
       "1             0  \n",
       "2             0  \n",
       "3             0  \n",
       "4             0  \n",
       "\n",
       "[5 rows x 44 columns]"
      ]
     },
     "execution_count": 273,
     "metadata": {},
     "output_type": "execute_result"
    }
   ],
   "source": [
    "city_n = pd.get_dummies(df['city'])\n",
    "city_n.head()"
   ]
  },
  {
   "cell_type": "code",
   "execution_count": 274,
   "id": "c478ccc9",
   "metadata": {},
   "outputs": [],
   "source": [
    "# Kullanmak istemediğimiz kolonları droplayalım.\n",
    "# df ve city_n verilerini birleştirmek için concat() kullanarak dt değişkeninin içine atayalım."
   ]
  },
  {
   "cell_type": "code",
   "execution_count": 275,
   "id": "7849a9cf",
   "metadata": {},
   "outputs": [
    {
     "data": {
      "text/html": [
       "<div>\n",
       "<style scoped>\n",
       "    .dataframe tbody tr th:only-of-type {\n",
       "        vertical-align: middle;\n",
       "    }\n",
       "\n",
       "    .dataframe tbody tr th {\n",
       "        vertical-align: top;\n",
       "    }\n",
       "\n",
       "    .dataframe thead th {\n",
       "        text-align: right;\n",
       "    }\n",
       "</style>\n",
       "<table border=\"1\" class=\"dataframe\">\n",
       "  <thead>\n",
       "    <tr style=\"text-align: right;\">\n",
       "      <th></th>\n",
       "      <th>price</th>\n",
       "      <th>bedrooms</th>\n",
       "      <th>bathrooms</th>\n",
       "      <th>sqft_living</th>\n",
       "      <th>sqft_lot</th>\n",
       "      <th>floors</th>\n",
       "      <th>waterfront</th>\n",
       "      <th>view</th>\n",
       "      <th>condition</th>\n",
       "      <th>sqft_above</th>\n",
       "      <th>...</th>\n",
       "      <th>SeaTac</th>\n",
       "      <th>Seattle</th>\n",
       "      <th>Shoreline</th>\n",
       "      <th>Skykomish</th>\n",
       "      <th>Snoqualmie</th>\n",
       "      <th>Snoqualmie Pass</th>\n",
       "      <th>Tukwila</th>\n",
       "      <th>Vashon</th>\n",
       "      <th>Woodinville</th>\n",
       "      <th>Yarrow Point</th>\n",
       "    </tr>\n",
       "  </thead>\n",
       "  <tbody>\n",
       "    <tr>\n",
       "      <th>0</th>\n",
       "      <td>313000.0</td>\n",
       "      <td>3</td>\n",
       "      <td>1</td>\n",
       "      <td>1340</td>\n",
       "      <td>7912</td>\n",
       "      <td>1</td>\n",
       "      <td>0</td>\n",
       "      <td>0</td>\n",
       "      <td>3</td>\n",
       "      <td>1340</td>\n",
       "      <td>...</td>\n",
       "      <td>0</td>\n",
       "      <td>0</td>\n",
       "      <td>1</td>\n",
       "      <td>0</td>\n",
       "      <td>0</td>\n",
       "      <td>0</td>\n",
       "      <td>0</td>\n",
       "      <td>0</td>\n",
       "      <td>0</td>\n",
       "      <td>0</td>\n",
       "    </tr>\n",
       "    <tr>\n",
       "      <th>1</th>\n",
       "      <td>2384000.0</td>\n",
       "      <td>5</td>\n",
       "      <td>2</td>\n",
       "      <td>3650</td>\n",
       "      <td>9050</td>\n",
       "      <td>2</td>\n",
       "      <td>0</td>\n",
       "      <td>4</td>\n",
       "      <td>5</td>\n",
       "      <td>3370</td>\n",
       "      <td>...</td>\n",
       "      <td>0</td>\n",
       "      <td>1</td>\n",
       "      <td>0</td>\n",
       "      <td>0</td>\n",
       "      <td>0</td>\n",
       "      <td>0</td>\n",
       "      <td>0</td>\n",
       "      <td>0</td>\n",
       "      <td>0</td>\n",
       "      <td>0</td>\n",
       "    </tr>\n",
       "    <tr>\n",
       "      <th>2</th>\n",
       "      <td>342000.0</td>\n",
       "      <td>3</td>\n",
       "      <td>2</td>\n",
       "      <td>1930</td>\n",
       "      <td>11947</td>\n",
       "      <td>1</td>\n",
       "      <td>0</td>\n",
       "      <td>0</td>\n",
       "      <td>4</td>\n",
       "      <td>1930</td>\n",
       "      <td>...</td>\n",
       "      <td>0</td>\n",
       "      <td>0</td>\n",
       "      <td>0</td>\n",
       "      <td>0</td>\n",
       "      <td>0</td>\n",
       "      <td>0</td>\n",
       "      <td>0</td>\n",
       "      <td>0</td>\n",
       "      <td>0</td>\n",
       "      <td>0</td>\n",
       "    </tr>\n",
       "    <tr>\n",
       "      <th>3</th>\n",
       "      <td>420000.0</td>\n",
       "      <td>3</td>\n",
       "      <td>2</td>\n",
       "      <td>2000</td>\n",
       "      <td>8030</td>\n",
       "      <td>1</td>\n",
       "      <td>0</td>\n",
       "      <td>0</td>\n",
       "      <td>4</td>\n",
       "      <td>1000</td>\n",
       "      <td>...</td>\n",
       "      <td>0</td>\n",
       "      <td>0</td>\n",
       "      <td>0</td>\n",
       "      <td>0</td>\n",
       "      <td>0</td>\n",
       "      <td>0</td>\n",
       "      <td>0</td>\n",
       "      <td>0</td>\n",
       "      <td>0</td>\n",
       "      <td>0</td>\n",
       "    </tr>\n",
       "    <tr>\n",
       "      <th>4</th>\n",
       "      <td>550000.0</td>\n",
       "      <td>4</td>\n",
       "      <td>2</td>\n",
       "      <td>1940</td>\n",
       "      <td>10500</td>\n",
       "      <td>1</td>\n",
       "      <td>0</td>\n",
       "      <td>0</td>\n",
       "      <td>4</td>\n",
       "      <td>1140</td>\n",
       "      <td>...</td>\n",
       "      <td>0</td>\n",
       "      <td>0</td>\n",
       "      <td>0</td>\n",
       "      <td>0</td>\n",
       "      <td>0</td>\n",
       "      <td>0</td>\n",
       "      <td>0</td>\n",
       "      <td>0</td>\n",
       "      <td>0</td>\n",
       "      <td>0</td>\n",
       "    </tr>\n",
       "  </tbody>\n",
       "</table>\n",
       "<p>5 rows × 56 columns</p>\n",
       "</div>"
      ],
      "text/plain": [
       "       price  bedrooms  bathrooms  sqft_living  sqft_lot  floors  waterfront  \\\n",
       "0   313000.0         3          1         1340      7912       1           0   \n",
       "1  2384000.0         5          2         3650      9050       2           0   \n",
       "2   342000.0         3          2         1930     11947       1           0   \n",
       "3   420000.0         3          2         2000      8030       1           0   \n",
       "4   550000.0         4          2         1940     10500       1           0   \n",
       "\n",
       "   view  condition  sqft_above  ...  SeaTac  Seattle  Shoreline  Skykomish  \\\n",
       "0     0          3        1340  ...       0        0          1          0   \n",
       "1     4          5        3370  ...       0        1          0          0   \n",
       "2     0          4        1930  ...       0        0          0          0   \n",
       "3     0          4        1000  ...       0        0          0          0   \n",
       "4     0          4        1140  ...       0        0          0          0   \n",
       "\n",
       "   Snoqualmie  Snoqualmie Pass  Tukwila  Vashon  Woodinville  Yarrow Point  \n",
       "0           0                0        0       0            0             0  \n",
       "1           0                0        0       0            0             0  \n",
       "2           0                0        0       0            0             0  \n",
       "3           0                0        0       0            0             0  \n",
       "4           0                0        0       0            0             0  \n",
       "\n",
       "[5 rows x 56 columns]"
      ]
     },
     "execution_count": 275,
     "metadata": {},
     "output_type": "execute_result"
    }
   ],
   "source": [
    "df.drop(['city', 'country', 'statezip', 'street', 'date', 'yr_renovated'], axis=1, inplace=True)\n",
    "dt = pd.concat([df, city_n], axis=1)\n",
    "dt.head()"
   ]
  },
  {
   "cell_type": "code",
   "execution_count": 276,
   "id": "3dee76a0",
   "metadata": {},
   "outputs": [
    {
     "name": "stdout",
     "output_type": "stream",
     "text": [
      "Index(['price', 'bedrooms', 'bathrooms', 'sqft_living', 'sqft_lot', 'floors',\n",
      "       'waterfront', 'view', 'condition', 'sqft_above', 'sqft_basement',\n",
      "       'yr_built', 'Algona', 'Auburn', 'Beaux Arts Village', 'Bellevue',\n",
      "       'Black Diamond', 'Bothell', 'Burien', 'Carnation', 'Clyde Hill',\n",
      "       'Covington', 'Des Moines', 'Duvall', 'Enumclaw', 'Fall City',\n",
      "       'Federal Way', 'Inglewood-Finn Hill', 'Issaquah', 'Kenmore', 'Kent',\n",
      "       'Kirkland', 'Lake Forest Park', 'Maple Valley', 'Medina',\n",
      "       'Mercer Island', 'Milton', 'Newcastle', 'Normandy Park', 'North Bend',\n",
      "       'Pacific', 'Preston', 'Ravensdale', 'Redmond', 'Renton', 'Sammamish',\n",
      "       'SeaTac', 'Seattle', 'Shoreline', 'Skykomish', 'Snoqualmie',\n",
      "       'Snoqualmie Pass', 'Tukwila', 'Vashon', 'Woodinville', 'Yarrow Point'],\n",
      "      dtype='object')\n"
     ]
    }
   ],
   "source": [
    "print(dt.columns)"
   ]
  },
  {
   "cell_type": "code",
   "execution_count": 277,
   "id": "54dd8fd3",
   "metadata": {},
   "outputs": [],
   "source": [
    "# Veri setimizdeki değişkenlerimize normalizasyon işlemi uygulayalım"
   ]
  },
  {
   "cell_type": "code",
   "execution_count": 278,
   "id": "c0d14891",
   "metadata": {},
   "outputs": [],
   "source": [
    "from sklearn.preprocessing import StandardScaler\n",
    "\n",
    "scaler = StandardScaler()\n",
    "Cols = list(dt.columns)\n",
    "s_df = scaler.fit_transform(dt[Cols])\n",
    "s_df = pd.DataFrame(s_df, columns=Cols)"
   ]
  },
  {
   "cell_type": "code",
   "execution_count": 279,
   "id": "6c748e95",
   "metadata": {},
   "outputs": [],
   "source": [
    "# Bağımsız(X) ve Bağımlı(y) değişkenlerimizi ayıralım\n",
    "# Burada price kolonunu bağımlı değişken kabul edeceğimizden dolayı X değişkeninden dropluyoruz"
   ]
  },
  {
   "cell_type": "code",
   "execution_count": 280,
   "id": "5e9c744b",
   "metadata": {},
   "outputs": [],
   "source": [
    "X = s_df.drop(['price'], axis=1)\n",
    "y = s_df['price']"
   ]
  },
  {
   "cell_type": "code",
   "execution_count": 281,
   "id": "8fd75d37",
   "metadata": {},
   "outputs": [],
   "source": [
    "# Test ve eğitim verilerimizi birbirinden ayıralım"
   ]
  },
  {
   "cell_type": "code",
   "execution_count": 282,
   "id": "3f25e358",
   "metadata": {},
   "outputs": [],
   "source": [
    "from sklearn.model_selection import train_test_split\n",
    "\n",
    "X_train, X_test, y_train, y_test = train_test_split(X, y, test_size=0.2, random_state=0)"
   ]
  },
  {
   "cell_type": "code",
   "execution_count": 283,
   "id": "b8a039fc",
   "metadata": {},
   "outputs": [],
   "source": [
    "# Lineer Regresyon ve r2 score kütüphanelerini importlayalım"
   ]
  },
  {
   "cell_type": "code",
   "execution_count": 284,
   "id": "ec0d0179",
   "metadata": {},
   "outputs": [],
   "source": [
    "from sklearn.linear_model import LinearRegression\n",
    "from sklearn.metrics import r2_score\n",
    "model = LinearRegression()"
   ]
  },
  {
   "cell_type": "code",
   "execution_count": 285,
   "id": "810f3e5f",
   "metadata": {},
   "outputs": [],
   "source": [
    "# Modelimizi eğitelim"
   ]
  },
  {
   "cell_type": "code",
   "execution_count": 286,
   "id": "062efb8c",
   "metadata": {},
   "outputs": [
    {
     "data": {
      "text/plain": [
       "LinearRegression()"
      ]
     },
     "execution_count": 286,
     "metadata": {},
     "output_type": "execute_result"
    }
   ],
   "source": [
    "model.fit(X_train, y_train)"
   ]
  },
  {
   "cell_type": "code",
   "execution_count": 287,
   "id": "e94cc1f2",
   "metadata": {},
   "outputs": [],
   "source": [
    "# r2 score sonucumuzu yazdıralım"
   ]
  },
  {
   "cell_type": "code",
   "execution_count": 288,
   "id": "947eaef0",
   "metadata": {},
   "outputs": [
    {
     "data": {
      "text/plain": [
       "0.7022354211121511"
      ]
     },
     "execution_count": 288,
     "metadata": {},
     "output_type": "execute_result"
    }
   ],
   "source": [
    "model.score(X_test, y_test)"
   ]
  }
 ],
 "metadata": {
  "kernelspec": {
   "display_name": "Python 3 (ipykernel)",
   "language": "python",
   "name": "python3"
  },
  "language_info": {
   "codemirror_mode": {
    "name": "ipython",
    "version": 3
   },
   "file_extension": ".py",
   "mimetype": "text/x-python",
   "name": "python",
   "nbconvert_exporter": "python",
   "pygments_lexer": "ipython3",
   "version": "3.9.13"
  }
 },
 "nbformat": 4,
 "nbformat_minor": 5
}
